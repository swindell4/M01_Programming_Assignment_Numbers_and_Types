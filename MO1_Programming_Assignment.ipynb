{
 "cells": [
  {
   "cell_type": "code",
   "execution_count": 3,
   "id": "a454321b-1c16-4530-8414-d65303dd6e27",
   "metadata": {},
   "outputs": [
    {
     "name": "stdout",
     "output_type": "stream",
     "text": [
      "60.0\n",
      "60\n"
     ]
    }
   ],
   "source": [
    "seconds_per_hour = 60 * 60 \n",
    "seconds_per_day = seconds_per_hour * 60 \n",
    "days_in_hours_in_seconds = seconds_per_day / seconds_per_hour \n",
    "print(days_in_hours_in_seconds) \n",
    "#result = 60.0 \n",
    "hours_in_days_in_seconds = seconds_per_day // seconds_per_hour \n",
    "print(hours_in_days_in_seconds) \n",
    "#result = 60 (Yes the number agrees with the floating point version. "
   ]
  },
  {
   "cell_type": "code",
   "execution_count": null,
   "id": "2cfa6ed5-800c-4181-9a8b-2d397d170ae8",
   "metadata": {},
   "outputs": [],
   "source": []
  }
 ],
 "metadata": {
  "kernelspec": {
   "display_name": "Python 3 (ipykernel)",
   "language": "python",
   "name": "python3"
  },
  "language_info": {
   "codemirror_mode": {
    "name": "ipython",
    "version": 3
   },
   "file_extension": ".py",
   "mimetype": "text/x-python",
   "name": "python",
   "nbconvert_exporter": "python",
   "pygments_lexer": "ipython3",
   "version": "3.11.7"
  }
 },
 "nbformat": 4,
 "nbformat_minor": 5
}
